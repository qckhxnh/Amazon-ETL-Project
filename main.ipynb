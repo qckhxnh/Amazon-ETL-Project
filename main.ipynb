{
 "cells": [
  {
   "cell_type": "markdown",
   "metadata": {},
   "source": [
    "**IMPORTING NECESSARY LIBRARIES AND MODULES**"
   ]
  },
  {
   "cell_type": "code",
   "execution_count": 1,
   "metadata": {},
   "outputs": [],
   "source": [
    "from bs4 import BeautifulSoup\n",
    "import requests\n",
    "import time\n",
    "import smtplib\n",
    "import pandas as pd\n",
    "import numpy as np\n",
    "import matplotlib.pyplot as plt\n",
    "import psycopg2"
   ]
  },
  {
   "cell_type": "markdown",
   "metadata": {},
   "source": [
    "**FUNCTIONS TO PERFORM WEB-SCRAPING FROM THE AMAZON WEBPAGE**"
   ]
  },
  {
   "cell_type": "code",
   "execution_count": 2,
   "metadata": {},
   "outputs": [],
   "source": [
    "#GETTING PRODUCT TITLES\n",
    "def get_title(soup):\n",
    "    try:\n",
    "        title = soup.find(\"span\", attrs={\"id\":\"productTitle\"}).text.strip()\n",
    "    except:\n",
    "        title = \"Unknown Product\"\n",
    "    \n",
    "    return title      \n"
   ]
  },
  {
   "cell_type": "code",
   "execution_count": 3,
   "metadata": {},
   "outputs": [],
   "source": [
    "#GETTING PRODUCT PRICES\n",
    "def get_price(soup):\n",
    "    try:\n",
    "        price_whole = pd.to_numeric(soup.find(\"span\", attrs={\"class\":\"a-price-whole\"}).text.strip())\n",
    "        price_fraction = pd.to_numeric(soup.find(\"span\", attrs={\"class\":\"a-price-fraction\"}).text.strip())\n",
    "        price = price_whole + price_fraction\n",
    "    except:\n",
    "        price = \"Unknown Price\"\n",
    "    \n",
    "    return price"
   ]
  },
  {
   "cell_type": "code",
   "execution_count": 4,
   "metadata": {},
   "outputs": [],
   "source": [
    "#GETTING PRODUCT RATINGS\n",
    "def get_rating(soup):\n",
    "    try:\n",
    "        rating = pd.to_numeric(soup.find(\"span\", attrs={\"class\":\"a-icon-alt\"}).text.strip().split()[0])\n",
    "    except:\n",
    "        rating = \"Unknown Rating\"\n",
    "    \n",
    "    return rating"
   ]
  },
  {
   "cell_type": "code",
   "execution_count": 5,
   "metadata": {},
   "outputs": [],
   "source": [
    "#PERFORMING WEB SCRAPING WITH THE REQUESTS LIBRARY\n",
    "\n",
    "URL = 'https://www.amazon.com/s?k=t-shirt&crid=1TZ2ZOV4HJN09&sprefix=%2Caps%2C186&ref=nb_sb_ss_recent_3_0_recent'\n",
    "headers = {\"User-Agent\": \"Mozilla/5.0 (Windows NT 10.0; Win64; x64) AppleWebKit/537.36 (KHTML, like Gecko) Chrome/119.0.0.0 Safari/537.36\",\"Accept-Encoding\":\"gzip, deflate\", \"Accept\":\"text/html,application/xhtml+xml,application/xml;q=0.9,*/*;q=0.8\", \"DNT\":\"1\",\"Connection\":\"close\", \"Upgrade-Insecure-Requests\":\"1\"}\n",
    "page = requests.get(URL, headers=headers)\n",
    "soup = BeautifulSoup(page.content, \"html.parser\")\n",
    "links = soup.find_all(\"a\", attrs={'class':'a-link-normal s-underline-text s-underline-link-text s-link-style a-text-normal'})\n",
    "\n",
    "links_list = []\n",
    "\n",
    "for link in links:\n",
    "    links_list.append(link.get('href'))\n",
    "    \n",
    "data = {\"title\":[], \"price\":[], \"rating\":[]}\n",
    "\n",
    "for link in links_list:\n",
    "    product_links = \"https://www.amazon.com\" + link\n",
    "    product_page = requests.get(product_links, headers=headers)\n",
    "    product_soup = BeautifulSoup(product_page.content, \"html.parser\")\n",
    "    data[\"title\"].append(get_title(product_soup))\n",
    "    data[\"price\"].append(get_price(product_soup))\n",
    "    data[\"rating\"].append(get_rating(product_soup))"
   ]
  },
  {
   "cell_type": "markdown",
   "metadata": {},
   "source": [
    "**LOADING DATAS INTO A PANDAS DATAFRAME, REMOVING UNKNOWN PRODUCTS**"
   ]
  },
  {
   "cell_type": "code",
   "execution_count": 6,
   "metadata": {},
   "outputs": [
    {
     "data": {
      "text/html": [
       "<div>\n",
       "<style scoped>\n",
       "    .dataframe tbody tr th:only-of-type {\n",
       "        vertical-align: middle;\n",
       "    }\n",
       "\n",
       "    .dataframe tbody tr th {\n",
       "        vertical-align: top;\n",
       "    }\n",
       "\n",
       "    .dataframe thead th {\n",
       "        text-align: right;\n",
       "    }\n",
       "</style>\n",
       "<table border=\"1\" class=\"dataframe\">\n",
       "  <thead>\n",
       "    <tr style=\"text-align: right;\">\n",
       "      <th></th>\n",
       "      <th>title</th>\n",
       "      <th>price</th>\n",
       "      <th>rating</th>\n",
       "    </tr>\n",
       "  </thead>\n",
       "  <tbody>\n",
       "  </tbody>\n",
       "</table>\n",
       "</div>"
      ],
      "text/plain": [
       "Empty DataFrame\n",
       "Columns: [title, price, rating]\n",
       "Index: []"
      ]
     },
     "execution_count": 6,
     "metadata": {},
     "output_type": "execute_result"
    }
   ],
   "source": [
    "df = pd.DataFrame.from_dict(data)\n",
    "df['rating'] = df['rating'].replace('Unknown Rating', np.nan)\n",
    "df['rating'] = df['rating'].astype(float)\n",
    "df['price'] = df['price'].replace('Unknown Price', np.nan)\n",
    "df['price'] = df['price'].astype(float)\n",
    "df = df.dropna()\n",
    "df = df.sort_values(by=['rating'], ascending=False)\n",
    "df = df.reset_index(drop=True)\n",
    "df"
   ]
  },
  {
   "cell_type": "markdown",
   "metadata": {},
   "source": [
    "**LOADING DATA INTO A LOCAL POSTGRESQL DATABASE**"
   ]
  },
  {
   "cell_type": "code",
   "execution_count": 7,
   "metadata": {},
   "outputs": [],
   "source": [
    "#CREATING CONNECTTION AND CURSOR TO POSTGRESQL DATABASE\n",
    "def connect():\n",
    "    def create_connection():\n",
    "        conn = psycopg2.connect(\n",
    "            host=\"localhost\",\n",
    "            database=\"database\",\n",
    "            user=\"postgres\",\n",
    "            password=\"Quockhanh2004@\"\n",
    "        )\n",
    "        return conn\n",
    "    conn = create_connection()\n",
    "    cur = conn.cursor()\n",
    "    return cur, conn\n",
    "cur, conn = connect()"
   ]
  },
  {
   "cell_type": "code",
   "execution_count": null,
   "metadata": {},
   "outputs": [],
   "source": [
    "#LOADING DATA TO POSTGRESQL DATABASE\n",
    "def load(data):\n",
    "    cur, conn = connect()\n",
    "    cur.execute(\"DROP TABLE IF EXISTS tshirts\")\n",
    "    cur.execute(\"CREATE TABLE tshirts (title TEXT, price FLOAT, rating FLOAT)\n",
    "    i = 0\n",
    "    for item in data:\n",
    "        cur.execute(\"INSERT INTO tshirts (title, price, rating) VALUES (%s, %s, %s)\", (item['price'][i], item['price'][i], item['rating'][i]))\n",
    "        i += 1\n",
    "    conn.commit()\n",
    "    print(\"Data loaded successfully\")\n",
    "\n",
    "database = load(data)"
   ]
  }
 ],
 "metadata": {
  "kernelspec": {
   "display_name": "Python 3",
   "language": "python",
   "name": "python3"
  },
  "language_info": {
   "codemirror_mode": {
    "name": "ipython",
    "version": 3
   },
   "file_extension": ".py",
   "mimetype": "text/x-python",
   "name": "python",
   "nbconvert_exporter": "python",
   "pygments_lexer": "ipython3",
   "version": "3.11.1"
  }
 },
 "nbformat": 4,
 "nbformat_minor": 2
}
