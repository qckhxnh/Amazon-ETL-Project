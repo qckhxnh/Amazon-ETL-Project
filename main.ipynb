{
 "cells": [
  {
   "cell_type": "markdown",
   "metadata": {},
   "source": [
    "**IMPORTING NECESSARY LIBRARIES AND MODULES**"
   ]
  },
  {
   "cell_type": "code",
   "execution_count": 2,
   "metadata": {},
   "outputs": [],
   "source": [
    "from bs4 import BeautifulSoup\n",
    "import requests\n",
    "import time\n",
    "import smtplib\n",
    "import pandas as pd\n",
    "import numpy as np\n",
    "import matplotlib.pyplot as plt\n",
    "import psycopg2"
   ]
  },
  {
   "cell_type": "markdown",
   "metadata": {},
   "source": [
    "**FUNCTIONS TO PERFORM WEB-SCRAPING FROM THE AMAZON WEBPAGE**"
   ]
  },
  {
   "cell_type": "code",
   "execution_count": 3,
   "metadata": {},
   "outputs": [],
   "source": [
    "#GETTING PRODUCT TITLES\n",
    "def get_title(soup):\n",
    "    try:\n",
    "        title = soup.find(\"span\", attrs={\"id\":\"productTitle\"}).text.strip()\n",
    "    except:\n",
    "        title = \"Unknown Product\"\n",
    "    \n",
    "    return title      \n"
   ]
  },
  {
   "cell_type": "code",
   "execution_count": 4,
   "metadata": {},
   "outputs": [],
   "source": [
    "#GETTING PRODUCT PRICES\n",
    "def get_price(soup):\n",
    "    try:\n",
    "        price_whole = pd.to_numeric(soup.find(\"span\", attrs={\"class\":\"a-price-whole\"}).text.strip())\n",
    "        price_fraction = pd.to_numeric(soup.find(\"span\", attrs={\"class\":\"a-price-fraction\"}).text.strip())\n",
    "        price = price_whole + price_fraction\n",
    "    except:\n",
    "        price = \"Unknown Price\"\n",
    "    \n",
    "    return price"
   ]
  },
  {
   "cell_type": "code",
   "execution_count": 5,
   "metadata": {},
   "outputs": [],
   "source": [
    "#GETTING PRODUCT RATINGS\n",
    "def get_rating(soup):\n",
    "    try:\n",
    "        rating = pd.to_numeric(soup.find(\"span\", attrs={\"class\":\"a-icon-alt\"}).text.strip().split()[0])\n",
    "    except:\n",
    "        rating = \"Unknown Rating\"\n",
    "    \n",
    "    return rating"
   ]
  },
  {
   "cell_type": "code",
   "execution_count": 6,
   "metadata": {},
   "outputs": [],
   "source": [
    "#PERFORMING WEB SCRAPING WITH THE REQUESTS LIBRARY\n",
    "\n",
    "URL = 'https://www.amazon.com/s?k=t-shirt&crid=1TZ2ZOV4HJN09&sprefix=%2Caps%2C186&ref=nb_sb_ss_recent_3_0_recent'\n",
    "headers = {\"User-Agent\": \"Mozilla/5.0 (Windows NT 10.0; Win64; x64) AppleWebKit/537.36 (KHTML, like Gecko) Chrome/119.0.0.0 Safari/537.36\",\"Accept-Encoding\":\"gzip, deflate\", \"Accept\":\"text/html,application/xhtml+xml,application/xml;q=0.9,*/*;q=0.8\", \"DNT\":\"1\",\"Connection\":\"close\", \"Upgrade-Insecure-Requests\":\"1\"}\n",
    "page = requests.get(URL, headers=headers)\n",
    "soup = BeautifulSoup(page.content, \"html.parser\")\n",
    "links = soup.find_all(\"a\", attrs={'class':'a-link-normal s-underline-text s-underline-link-text s-link-style a-text-normal'})\n",
    "\n",
    "links_list = []\n",
    "\n",
    "for link in links:\n",
    "    links_list.append(link.get('href'))\n",
    "    \n",
    "data = {\"title\":[], \"price\":[], \"rating\":[]}\n",
    "\n",
    "for link in links_list:\n",
    "    product_links = \"https://www.amazon.com\" + link\n",
    "    product_page = requests.get(product_links, headers=headers)\n",
    "    product_soup = BeautifulSoup(product_page.content, \"html.parser\")\n",
    "    data[\"title\"].append(get_title(product_soup))\n",
    "    data[\"price\"].append(get_price(product_soup))\n",
    "    data[\"rating\"].append(get_rating(product_soup))"
   ]
  },
  {
   "cell_type": "markdown",
   "metadata": {},
   "source": [
    "**LOADING DATAS INTO A PANDAS DATAFRAME, REMOVING UNKNOWN PRODUCTS**"
   ]
  },
  {
   "cell_type": "code",
   "execution_count": 7,
   "metadata": {},
   "outputs": [
    {
     "data": {
      "text/html": [
       "<div>\n",
       "<style scoped>\n",
       "    .dataframe tbody tr th:only-of-type {\n",
       "        vertical-align: middle;\n",
       "    }\n",
       "\n",
       "    .dataframe tbody tr th {\n",
       "        vertical-align: top;\n",
       "    }\n",
       "\n",
       "    .dataframe thead th {\n",
       "        text-align: right;\n",
       "    }\n",
       "</style>\n",
       "<table border=\"1\" class=\"dataframe\">\n",
       "  <thead>\n",
       "    <tr style=\"text-align: right;\">\n",
       "      <th></th>\n",
       "      <th>title</th>\n",
       "      <th>price</th>\n",
       "      <th>rating</th>\n",
       "    </tr>\n",
       "  </thead>\n",
       "  <tbody>\n",
       "    <tr>\n",
       "      <th>0</th>\n",
       "      <td>Nature Backs Enchanted (Charcoal) Nature Inspi...</td>\n",
       "      <td>29.0</td>\n",
       "      <td>5.0</td>\n",
       "    </tr>\n",
       "    <tr>\n",
       "      <th>1</th>\n",
       "      <td>LACOXA 2023 New Cotton T-Shirt Bitcoin 4D Digi...</td>\n",
       "      <td>75.0</td>\n",
       "      <td>5.0</td>\n",
       "    </tr>\n",
       "    <tr>\n",
       "      <th>2</th>\n",
       "      <td>Can't Hear You I'm Gaming Headset Graphic Vide...</td>\n",
       "      <td>118.0</td>\n",
       "      <td>4.7</td>\n",
       "    </tr>\n",
       "    <tr>\n",
       "      <th>3</th>\n",
       "      <td>INTO THE AM Mens T Shirt - Short Sleeve Crew N...</td>\n",
       "      <td>113.0</td>\n",
       "      <td>4.7</td>\n",
       "    </tr>\n",
       "    <tr>\n",
       "      <th>4</th>\n",
       "      <td>Carhartt Men's Loose Fit Heavyweight Short-Sle...</td>\n",
       "      <td>118.0</td>\n",
       "      <td>4.6</td>\n",
       "    </tr>\n",
       "    <tr>\n",
       "      <th>...</th>\n",
       "      <td>...</td>\n",
       "      <td>...</td>\n",
       "      <td>...</td>\n",
       "    </tr>\n",
       "    <tr>\n",
       "      <th>64</th>\n",
       "      <td>Sunborui Women's Summer Short Sleeve V Neck T ...</td>\n",
       "      <td>119.0</td>\n",
       "      <td>4.2</td>\n",
       "    </tr>\n",
       "    <tr>\n",
       "      <th>65</th>\n",
       "      <td>BILLIONHATS Wholesale Bulk 12 Pack Men's Cotto...</td>\n",
       "      <td>123.0</td>\n",
       "      <td>4.2</td>\n",
       "    </tr>\n",
       "    <tr>\n",
       "      <th>66</th>\n",
       "      <td>Men's Graphic Tees 100% Soft Cotton Crew Neck ...</td>\n",
       "      <td>122.0</td>\n",
       "      <td>4.1</td>\n",
       "    </tr>\n",
       "    <tr>\n",
       "      <th>67</th>\n",
       "      <td>Hanes Womens Originals V-Neck Long Sleeve T-Sh...</td>\n",
       "      <td>119.0</td>\n",
       "      <td>3.9</td>\n",
       "    </tr>\n",
       "    <tr>\n",
       "      <th>68</th>\n",
       "      <td>Hanes Essentials, Cotton Crewneck Tee, Classic...</td>\n",
       "      <td>119.0</td>\n",
       "      <td>3.9</td>\n",
       "    </tr>\n",
       "  </tbody>\n",
       "</table>\n",
       "<p>69 rows × 3 columns</p>\n",
       "</div>"
      ],
      "text/plain": [
       "                                                title  price  rating\n",
       "0   Nature Backs Enchanted (Charcoal) Nature Inspi...   29.0     5.0\n",
       "1   LACOXA 2023 New Cotton T-Shirt Bitcoin 4D Digi...   75.0     5.0\n",
       "2   Can't Hear You I'm Gaming Headset Graphic Vide...  118.0     4.7\n",
       "3   INTO THE AM Mens T Shirt - Short Sleeve Crew N...  113.0     4.7\n",
       "4   Carhartt Men's Loose Fit Heavyweight Short-Sle...  118.0     4.6\n",
       "..                                                ...    ...     ...\n",
       "64  Sunborui Women's Summer Short Sleeve V Neck T ...  119.0     4.2\n",
       "65  BILLIONHATS Wholesale Bulk 12 Pack Men's Cotto...  123.0     4.2\n",
       "66  Men's Graphic Tees 100% Soft Cotton Crew Neck ...  122.0     4.1\n",
       "67  Hanes Womens Originals V-Neck Long Sleeve T-Sh...  119.0     3.9\n",
       "68  Hanes Essentials, Cotton Crewneck Tee, Classic...  119.0     3.9\n",
       "\n",
       "[69 rows x 3 columns]"
      ]
     },
     "execution_count": 7,
     "metadata": {},
     "output_type": "execute_result"
    }
   ],
   "source": [
    "df = pd.DataFrame.from_dict(data)\n",
    "df['rating'] = df['rating'].replace('Unknown Rating', np.nan)\n",
    "df['rating'] = df['rating'].astype(float)\n",
    "df['price'] = df['price'].replace('Unknown Price', np.nan)\n",
    "df['price'] = df['price'].astype(float)\n",
    "df = df.dropna()\n",
    "df = df.sort_values(by=['rating'], ascending=False)\n",
    "df = df.reset_index(drop=True)\n",
    "df"
   ]
  },
  {
   "cell_type": "markdown",
   "metadata": {},
   "source": [
    "**LOADING DATA INTO A LOCAL POSTGRESQL DATABASE**"
   ]
  },
  {
   "cell_type": "code",
   "execution_count": 8,
   "metadata": {},
   "outputs": [],
   "source": [
    "#CREATING CONNECTTION AND CURSOR TO POSTGRESQL DATABASE\n",
    "def connect():\n",
    "    def create_connection():\n",
    "        conn = psycopg2.connect(\n",
    "            host=\"localhost\",\n",
    "            database=\"database\",\n",
    "            user=\"postgres\",\n",
    "            password=\"Quockhanh2004@\"\n",
    "        )\n",
    "        return conn\n",
    "    conn = create_connection()\n",
    "    cur = conn.cursor()\n",
    "    return cur, conn\n",
    "cur, conn = connect()"
   ]
  },
  {
   "cell_type": "code",
   "execution_count": 9,
   "metadata": {},
   "outputs": [],
   "source": [
    "#PREPARE DATA TO INSERT INTO DATABASE\n",
    "title = []\n",
    "for item in data['title']:\n",
    "    title.append(item)\n",
    "\n",
    "price = []\n",
    "for item in data['price']:\n",
    "    price.append(item)\n",
    "\n",
    "rating = []\n",
    "for item in data['rating']:\n",
    "    rating.append(item)"
   ]
  },
  {
   "cell_type": "code",
   "execution_count": 10,
   "metadata": {},
   "outputs": [
    {
     "name": "stdout",
     "output_type": "stream",
     "text": [
      "Data loaded successfully\n"
     ]
    }
   ],
   "source": [
    "def load(data):\n",
    "    cur, conn = connect()\n",
    "    cur.execute(\"DROP TABLE IF EXISTS tshirts\")\n",
    "    cur.execute(\"CREATE TABLE tshirts (title TEXT, price FLOAT, rating FLOAT)\")\n",
    "    i = 0\n",
    "    for i in range(len(title)):\n",
    "        cur.execute(\"INSERT INTO tshirts (title, price, rating) VALUES (%s, %s, %s)\", (title[i], price[i], rating[i]))\n",
    "        i += 1\n",
    "    conn.commit()\n",
    "    print(\"Data loaded successfully\")\n",
    "\n",
    "database = load(data)"
   ]
  },
  {
   "cell_type": "markdown",
   "metadata": {},
   "source": [
    "**QUERYING DATA TO CHECK THE LOADING OF THE DATABASE**"
   ]
  },
  {
   "cell_type": "code",
   "execution_count": 13,
   "metadata": {},
   "outputs": [
    {
     "name": "stdout",
     "output_type": "stream",
     "text": [
      "Produc Title: Amazon Essentials Women's Classic-Fit Short-Sleeve Crewneck T-Shirt, Multipacks, Price: 19.0, Rating: 4.4 out of 5 stars\n",
      "Produc Title: Gildan Men's Crew T-Shirts, Multipack, Style G1100, Price: 119.0, Rating: 4.6 out of 5 stars\n",
      "Produc Title: Gildan Adult Ultra Cotton T-shirt, Style G2000, Multipack, Price: 119.0, Rating: 4.5 out of 5 stars\n",
      "Produc Title: Fruit of the Loom Men's Eversoft Cotton Stay Tucked Crew T-Shirt, Price: 119.0, Rating: 4.6 out of 5 stars\n",
      "Produc Title: Russell Athletic Men's Dri-Power Cotton Blend Tees & Tanks, Moisture Wicking, Odor Protection, UPF 30+, Sizes S-4X, Price: 119.0, Rating: 4.4 out of 5 stars\n",
      "Produc Title: GAP Men's 3-Pack Everyday Short Sleeve Tee T-Shirt, Price: 119.0, Rating: 4.4 out of 5 stars\n",
      "Produc Title: Hanes mens Beefyt T-shirt, Classic Heavyweight Cotton Crewneck Tee, Roomy Fit, 1 Or 2 Pack, Available in Tall, Price: 119.0, Rating: 4.4 out of 5 stars\n",
      "Produc Title: Gildan Men's V-Neck T-Shirts, Multipack, Style G1103, Price: 119.0, Rating: 4.5 out of 5 stars\n",
      "Produc Title: Comfort Colors Men's Short Sleeve Tee, Style 1717, Price: 113.0, Rating: 4.6 out of 5 stars\n",
      "Produc Title: Hanes Essentials Men's T-Shirt Pack, Men's Short Sleeve Tees, Crewneck Cotton T-Shirts for Men, Value Pack, Price: 119.0, Rating: 4.4 out of 5 stars\n",
      "Produc Title: Kingsted T-Shirts for Men Pack - Royally Comfortable - Soft & Fresh Premium Fabric - Well-Crafted Classic Tee, Price: 119.0, Rating: 4.4 out of 5 stars\n",
      "Produc Title: Fruit of the Loom Men's Premium Crew Tees, Price: 119.0, Rating: 4.4 out of 5 stars\n",
      "Produc Title: Hanes Men’s Short Sleeve Graphic T-shirt Collection, Price: 119.0, Rating: 4.6 out of 5 stars\n",
      "Produc Title: Fruit of the Loom Men's Eversoft Cotton Short Sleeve Pocket T-Shirts, Breathable & Tag Free, Price: 119.0, Rating: 4.5 out of 5 stars\n",
      "Produc Title: TELALEO 4/5 Pack Mens Polo Shirts Quick Dry Short Sleeve Golf T Shirt Performance Moisture Wicking Casual Workout, Price: 113.0, Rating: 4.4 out of 5 stars\n",
      "Produc Title: Champion Men's T-shirt, Classic Tee for Men, Men's T-shirt, Men's Tee (Reg. Or Big & Tall), Price: 119.0, Rating: 4.5 out of 5 stars\n",
      "Produc Title: Gildan Blank T-Shirt - Unisex Style 5000 Adult, Price: 119.0, Rating: 4.5 out of 5 stars\n",
      "Produc Title: J.VER Men's Cotton Linen Short Sleeve Shirts Casual Lightweight Button Down Shirts Beach Summer Tops with Pocket, Price: 123.0, Rating: 4.4 out of 5 stars\n",
      "Produc Title: Lion Nardo Dress Shirts for Men Long Sleeve Mens Dress Shirts Regular Fit Casual Button Down Shirts Cotton Dress Shirts, Price: 120.0, Rating: 4.4 out of 5 stars\n",
      "Produc Title: YTD Mens Casual Slim Fit Basic Henley Long Sleeve Fashion T-Shirt, Price: 123.0, Rating: 4.3 out of 5 stars\n",
      "Produc Title: Alimens & Gentle Mens Short Sleeve Dress Shirts Wrinkle Free Solid Casual Button Down Shirts with Pocket, Price: 120.0, Rating: 4.3 out of 5 stars\n",
      "Produc Title: Hanes Men's T-Shirt, Moisture-Wicking Cotton Crewneck Pocket Tees, 6-Pack, Price: 119.0, Rating: 4.4 out of 5 stars\n",
      "Produc Title: INTO THE AM Mens T Shirt - Short Sleeve Crew Neck Soft Fitted Tees S - 4XL Fresh Classic Basic Essential Tshirts, Price: 113.0, Rating: 4.7 out of 5 stars\n",
      "Produc Title: Hanes Men's, Odor Control, Moisture-Wicking Tee Shirts, 100% Cotton Undershirts, Multi-Packs, Price: 119.0, Rating: 4.5 out of 5 stars\n",
      "Produc Title: Amazon Essentials Men's Regular-Fit Short-Sleeve Crewneck Pocket T-Shirt, Pack of 2, Price: 29.0, Rating: 4.4 out of 5 stars\n",
      "Produc Title: Under Armour Men's Tech 2.0 Short-sleeve T-shirt, Price: 34.0, Rating: 4.5 out of 5 stars\n",
      "Produc Title: Brooks Brothers Men's Short Sleeve Cotton Crewneck Logo T-Shirt, Price: 117.0, Rating: 4.3 out of 5 stars\n",
      "Produc Title: LACOXA 2023 New Cotton T-Shirt Bitcoin 4D Digital Printing Garden Men's Street Loose Sweatshirt T-Shirt, Price: 75.0, Rating: 5.0 out of 5 stars\n",
      "Produc Title: Hanes Women's Originals Cotton T-Shirt, Classic Crewneck Women's Tee, Plus Size Available, Price: 113.0, Rating: 4.2 out of 5 stars\n",
      "Produc Title: Hanes Ultimate Comfort Fit Undershirt, Men’s Crewneck Stretch-Cotton T-Shirt, Price: 118.0, Rating: 4.5 out of 5 stars\n",
      "Produc Title: POLO RALPH LAUREN Men's V Neck Classic Fit Tee Shirt, Price: 119.0, Rating: 4.5 out of 5 stars\n",
      "Produc Title: Hanes Men's Shirt Moisture-Wicking Cotton Crewneck Pocket, 6-Pack, Assorted 6-pack, Medium, Price: 22.0, Rating: 4.4 out of 5 stars\n",
      "Produc Title: Zero Foxtrot Mens Premium Graphic T Shirts, Short Sleeve, S to 3XL - Join or Get Stacked, Ronin, and Wrath Tees, Price: 128.0, Rating: 4.5 out of 5 stars\n",
      "Produc Title: Can't Hear You I'm Gaming Headset Graphic Video Games Gamer Mens Funny T Shirt, Price: 118.0, Rating: 4.7 out of 5 stars\n",
      "Produc Title: Nature Backs Enchanted (Charcoal) Nature Inspired Outdoors Short Sleeve T-Shirt, Price: 29.0, Rating: 5.0 out of 5 stars\n",
      "Produc Title: MATXSO·MAX Men's Graphic Tees Astronaut T-Shirts - Cool Design Graphic T Shirts for Men, Price: 122.0, Rating: 4.3 out of 5 stars\n",
      "Produc Title: Gildan DryBlend T-Shirt, Style G8000, Multipack, Price: 119.0, Rating: 4.5 out of 5 stars\n",
      "Produc Title: Gildan Adult DryBlend Workwear T-Shirts with Pocket, 2-Pack, Price: 119.0, Rating: 4.6 out of 5 stars\n",
      "Produc Title: Gildan Softstyle Cotton T-Shirt, Style G64000, Multipack, Price: 113.0, Rating: 4.5 out of 5 stars\n",
      "Produc Title: Champion Men's T-Shirt, Cotton Midweight Men's Crewneck Tee,t-Shirt for Men, Script (Reg. Or Big & Tall), Price: 119.0, Rating: 4.6 out of 5 stars\n",
      "Produc Title: vineyard vines Men's Short Sleeve Whale Harbor Tee, Price: 55.0, Rating: 4.4 out of 5 stars\n",
      "Produc Title: BILLIONHATS Wholesale Bulk 12 Pack Men's Cotton T-Shirt Tees, Big & Tall Plus Size Short Sleeve Lightweight T-Shirts for Men, Price: 123.0, Rating: 4.2 out of 5 stars\n",
      "Produc Title: Men's Graphic Tees 100% Soft Cotton Crew Neck Short Sleeve T-Shirt Funny Novelty Design Shirts, Price: 122.0, Rating: 4.1 out of 5 stars\n",
      "Produc Title: Amazon Essentials Women's Classic-Fit Short-Sleeve Crewneck T-Shirt, Multipacks, Price: 119.0, Rating: 4.4 out of 5 stars\n",
      "Produc Title: Gildan Adult Ultra Cotton T-Shirt with Pocket, Style G2300, 2-Pack, Price: 119.0, Rating: 4.5 out of 5 stars\n",
      "Produc Title: 5 Pack Men’s Active Quick Dry Crew Neck T Shirts | Athletic Running Gym Workout Short Sleeve Tee Tops Bulk, Price: 119.0, Rating: 4.6 out of 5 stars\n",
      "Produc Title: Hanes Womens Originals V-Neck Long Sleeve T-Shirt, Cotton Tees for Women, Raw Edge V-Neckline, Price: 119.0, Rating: 3.9 out of 5 stars\n",
      "Produc Title: Amazon Essentials Men's Crewneck Undershirt, Pack of 6, Price: 119.0, Rating: 4.4 out of 5 stars\n",
      "Produc Title: Gildan Large Men's DryBlend Classic T-Shirt, Price: 119.0, Rating: 4.5 out of 5 stars\n",
      "Produc Title: Hanes Women's Perfect-t V-neck T-shirt, Ring-spun Cotton Short Sleeve Tee for Women, Price: 119.0, Rating: 4.2 out of 5 stars\n",
      "Produc Title: ZIWOCH Mens Sleeveless Tank Tops Workout Cut Off Shirts Muscle Gym T Shirts with Pocket, Price: 119.0, Rating: 4.5 out of 5 stars\n",
      "Produc Title: Hanes Essentials Pack, Crewneck Cotton T-Shirts for Men (4 Or 6 Pack), Price: 119.0, Rating: 4.4 out of 5 stars\n",
      "Produc Title: Calvin Klein Women's Plus Size Short Sleeve Iconic Tee, Price: 119.0, Rating: 4.4 out of 5 stars\n",
      "Produc Title: Gildan Mens DryBlend 50 Cotton/50 Poly T-Shirt, Price: 119.0, Rating: 4.5 out of 5 stars\n",
      "Produc Title: Gildan Adult Heavy Cotton T-shirt, Style G5000, Multipack, Price: 119.0, Rating: 4.5 out of 5 stars\n",
      "Produc Title: POLO RALPH LAUREN Men's Jersey Short Sleeve Tee, Price: 119.0, Rating: 4.4 out of 5 stars\n",
      "Produc Title: Hanes Essentials, Cotton Crewneck Tee, Classic Fit T-Shirt for Women, Price: 119.0, Rating: 3.9 out of 5 stars\n",
      "Produc Title: INTO THE AM Mens T Shirt - Short Sleeve Crew Neck Soft Fitted Tees S - 4XL Fresh Classic Tshirts, Price: 119.0, Rating: 4.3 out of 5 stars\n",
      "Produc Title: Amazon Essentials Women's Slim-Fit Half Sleeve Square Neck T-Shirt, Price: 119.0, Rating: 4.3 out of 5 stars\n",
      "Produc Title: Port & Company Men's Tall 50/50 Cotton/Poly T Shirts, Price: 119.0, Rating: 4.5 out of 5 stars\n",
      "Produc Title: Hanes Men's Comfort Blend 6-Pack V-Neck T-Shirts (White, Price: 93.0, Rating: 4.4 out of 5 stars\n",
      "Produc Title: Gildan Women's Heavy Cotton V-Neck T-Shirt, 2-Pack, Price: 119.0, Rating: 4.2 out of 5 stars\n",
      "Produc Title: Amazon Essentials Women's Classic-Fit Long-Sleeve Crewneck T-Shirt (Available in Plus Size), Price: 113.0, Rating: 4.4 out of 5 stars\n",
      "Produc Title: Carhartt Men's Loose Fit Heavyweight Short-Sleeve Pocket T-Shirt, Black, Price: 118.0, Rating: 4.6 out of 5 stars\n",
      "Produc Title: Aelfric Eden Mens Oversized T Shirts Tees Distorted Portrait Print Crew Neck Cotton Tops Streetwear Casual Shirt, Price: 133.0, Rating: 4.4 out of 5 stars\n",
      "Produc Title: DAVID ARCHY Men's Cotton Undershirts Moisture-Wicking V Neck or Crew Neck Plain T Shirts Super Soft Tank Tops for Men 3 Pack, Price: 138.0, Rating: 4.6 out of 5 stars\n",
      "Produc Title: Sunborui Women's Summer Short Sleeve V Neck T Shirts Pocket Solid Loose Casual Tee Tops, Price: 119.0, Rating: 4.2 out of 5 stars\n",
      "Produc Title: Olidarua Mens Casual Short Sleeve Henley Shirts Fashion Button T Shirts with Pocket, Price: 123.0, Rating: 4.4 out of 5 stars\n",
      "Produc Title: NITAGUT Mens Fashion Casual Front Placket Basic Long/Short Sleeve Henley T-Shirts, Price: 124.0, Rating: 4.4 out of 5 stars\n"
     ]
    }
   ],
   "source": [
    "def query():\n",
    "    cur, conn = connect()\n",
    "    cur.execute(\"SELECT * FROM tshirts\")\n",
    "    rows = cur.fetchall()\n",
    "    for row in rows:\n",
    "        print(f\"Produc Title: {row[0]}, Price: {row[1]}, Rating: {row[2]} out of 5 stars\")\n",
    "    conn.close()\n",
    "\n",
    "query()"
   ]
  }
 ],
 "metadata": {
  "kernelspec": {
   "display_name": "Python 3",
   "language": "python",
   "name": "python3"
  },
  "language_info": {
   "codemirror_mode": {
    "name": "ipython",
    "version": 3
   },
   "file_extension": ".py",
   "mimetype": "text/x-python",
   "name": "python",
   "nbconvert_exporter": "python",
   "pygments_lexer": "ipython3",
   "version": "3.11.1"
  }
 },
 "nbformat": 4,
 "nbformat_minor": 2
}
