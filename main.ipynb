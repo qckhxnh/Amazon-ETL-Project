{
 "cells": [
  {
   "cell_type": "markdown",
   "metadata": {},
   "source": [
    "**IMPORTING NECESSARY LIBRARIES AND MODULES**"
   ]
  },
  {
   "cell_type": "code",
   "execution_count": 12,
   "metadata": {},
   "outputs": [],
   "source": [
    "from bs4 import BeautifulSoup\n",
    "import requests\n",
    "import time\n",
    "import smtplib\n",
    "import pandas as pd"
   ]
  },
  {
   "cell_type": "markdown",
   "metadata": {},
   "source": [
    "**FUNCTIONS TO PERFORM WEB-SCRAPING FROM THE AMAZON WEBPAGE**"
   ]
  },
  {
   "cell_type": "code",
   "execution_count": 13,
   "metadata": {},
   "outputs": [],
   "source": [
    "#GETTING PRODUCT TITLES\n",
    "def get_title(soup):\n",
    "    try:\n",
    "        price_whole = pd.to_numeric(soup.find(\"span\", attrs={\"class\":\"a-price-whole\"}).text.strip())\n",
    "        price_fraction = pd.to_numeric(soup.find(\"span\", attrs={\"class\":\"a-price-fraction\"}).text.strip())\n",
    "        price = price_whole + price_fraction\n",
    "    except:\n",
    "        title = \"Unknown Product\"\n",
    "    \n",
    "    return title      \n"
   ]
  },
  {
   "cell_type": "code",
   "execution_count": 14,
   "metadata": {},
   "outputs": [],
   "source": [
    "#GETTING PRODUCT PRICES\n",
    "def get_price(soup):\n",
    "    try:\n",
    "        price = soup.find(\"span\", attrs={\"id\":\"productTitle\"}).text.strip()\n",
    "    except:\n",
    "        price = \"Unknown Price\"\n",
    "    \n",
    "    return price"
   ]
  },
  {
   "cell_type": "code",
   "execution_count": 15,
   "metadata": {},
   "outputs": [],
   "source": [
    "#GETTING PRODUCT RATINGS\n",
    "def get_rating(soup):\n",
    "    try:\n",
    "        rating = pd.to_numeric(soup.find(\"span\", attrs={\"class\":\"a-icon-alt\"}).text.strip().split()[0])\n",
    "    except:\n",
    "        rating = \"Unknown Rating\"\n",
    "    \n",
    "    return rating"
   ]
  },
  {
   "cell_type": "code",
   "execution_count": 16,
   "metadata": {},
   "outputs": [],
   "source": [
    "#PERFORMING WEB SCRAPING\n",
    "\n",
    "URL = 'https://www.amazon.com/s?k=t-shirt&crid=1TZ2ZOV4HJN09&sprefix=%2Caps%2C186&ref=nb_sb_ss_recent_3_0_recent'\n",
    "headers = {\"User-Agent\": \"Mozilla/5.0 (Windows NT 10.0; Win64; x64) AppleWebKit/537.36 (KHTML, like Gecko) Chrome/119.0.0.0 Safari/537.36\",\"Accept-Encoding\":\"gzip, deflate\", \"Accept\":\"text/html,application/xhtml+xml,application/xml;q=0.9,*/*;q=0.8\", \"DNT\":\"1\",\"Connection\":\"close\", \"Upgrade-Insecure-Requests\":\"1\"}\n",
    "page = requests.get(URL, headers=headers)\n",
    "soup = BeautifulSoup(page.content, \"html.parser\")\n",
    "links = soup.find_all(\"a\", attrs={'class':'a-link-normal s-underline-text s-underline-link-text s-link-style a-text-normal'})\n",
    "\n",
    "links_list = []\n",
    "\n",
    "for link in links:\n",
    "    links_list.append(link.get('href'))\n",
    "    \n",
    "data = {\"title\":[], \"price\":[], \"rating\":[]}\n",
    "\n",
    "for link in links_list:\n",
    "    product_links = \"https://www.amazon.com\" + link\n",
    "    product_page = requests.get(product_links, headers=headers)\n",
    "    product_soup = BeautifulSoup(product_page.content, \"html.parser\")\n",
    "    data[\"title\"].append(get_title(product_soup))\n",
    "    data[\"price\"].append(get_price(product_soup))\n",
    "    data[\"rating\"].append(get_rating(product_soup))"
   ]
  }
 ],
 "metadata": {
  "kernelspec": {
   "display_name": "Python 3",
   "language": "python",
   "name": "python3"
  },
  "language_info": {
   "codemirror_mode": {
    "name": "ipython",
    "version": 3
   },
   "file_extension": ".py",
   "mimetype": "text/x-python",
   "name": "python",
   "nbconvert_exporter": "python",
   "pygments_lexer": "ipython3",
   "version": "3.11.1"
  }
 },
 "nbformat": 4,
 "nbformat_minor": 2
}
