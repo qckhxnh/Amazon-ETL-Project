{
 "cells": [
  {
   "cell_type": "markdown",
   "metadata": {},
   "source": [
    "**IMPORTING NECESSARY LIBRARIES AND MODULES**"
   ]
  },
  {
   "cell_type": "code",
   "execution_count": 10,
   "metadata": {},
   "outputs": [],
   "source": [
    "from bs4 import BeautifulSoup\n",
    "import requests\n",
    "import time\n",
    "import smtplib\n",
    "import pandas as pd\n",
    "import numpy as np\n",
    "import matplotlib.pyplot as plt\n",
    "import psycopg2"
   ]
  },
  {
   "cell_type": "markdown",
   "metadata": {},
   "source": [
    "**FUNCTIONS TO PERFORM WEB-SCRAPING FROM THE AMAZON WEBPAGE**"
   ]
  },
  {
   "cell_type": "code",
   "execution_count": 11,
   "metadata": {},
   "outputs": [],
   "source": [
    "#GETTING PRODUCT TITLES\n",
    "def get_title(soup):\n",
    "    try:\n",
    "        title = soup.find(\"span\", attrs={\"id\":\"productTitle\"}).text.strip()\n",
    "    except:\n",
    "        title = \"Unknown Product\"\n",
    "    \n",
    "    return title      \n"
   ]
  },
  {
   "cell_type": "code",
   "execution_count": 12,
   "metadata": {},
   "outputs": [],
   "source": [
    "#GETTING PRODUCT PRICES\n",
    "def get_price(soup):\n",
    "    try:\n",
    "        price_whole = pd.to_numeric(soup.find(\"span\", attrs={\"class\":\"a-price-whole\"}).text.strip())\n",
    "        price_fraction = pd.to_numeric(soup.find(\"span\", attrs={\"class\":\"a-price-fraction\"}).text.strip())\n",
    "        price = price_whole + price_fraction\n",
    "    except:\n",
    "        price = \"Unknown Price\"\n",
    "    \n",
    "    return price"
   ]
  },
  {
   "cell_type": "code",
   "execution_count": 13,
   "metadata": {},
   "outputs": [],
   "source": [
    "#GETTING PRODUCT RATINGS\n",
    "def get_rating(soup):\n",
    "    try:\n",
    "        rating = pd.to_numeric(soup.find(\"span\", attrs={\"class\":\"a-icon-alt\"}).text.strip().split()[0])\n",
    "    except:\n",
    "        rating = \"Unknown Rating\"\n",
    "    \n",
    "    return rating"
   ]
  },
  {
   "cell_type": "code",
   "execution_count": 14,
   "metadata": {},
   "outputs": [],
   "source": [
    "#PERFORMING WEB SCRAPING WITH THE REQUESTS LIBRARY\n",
    "\n",
    "URL = 'https://www.amazon.com/s?k=t-shirt&crid=1TZ2ZOV4HJN09&sprefix=%2Caps%2C186&ref=nb_sb_ss_recent_3_0_recent'\n",
    "headers = {\"User-Agent\": \"Mozilla/5.0 (Windows NT 10.0; Win64; x64) AppleWebKit/537.36 (KHTML, like Gecko) Chrome/119.0.0.0 Safari/537.36\",\"Accept-Encoding\":\"gzip, deflate\", \"Accept\":\"text/html,application/xhtml+xml,application/xml;q=0.9,*/*;q=0.8\", \"DNT\":\"1\",\"Connection\":\"close\", \"Upgrade-Insecure-Requests\":\"1\"}\n",
    "page = requests.get(URL, headers=headers)\n",
    "soup = BeautifulSoup(page.content, \"html.parser\")\n",
    "links = soup.find_all(\"a\", attrs={'class':'a-link-normal s-underline-text s-underline-link-text s-link-style a-text-normal'})\n",
    "\n",
    "links_list = []\n",
    "\n",
    "for link in links:\n",
    "    links_list.append(link.get('href'))\n",
    "    \n",
    "data = {\"title\":[], \"price\":[], \"rating\":[]}\n",
    "\n",
    "for link in links_list:\n",
    "    product_links = \"https://www.amazon.com\" + link\n",
    "    product_page = requests.get(product_links, headers=headers)\n",
    "    product_soup = BeautifulSoup(product_page.content, \"html.parser\")\n",
    "    data[\"title\"].append(get_title(product_soup))\n",
    "    data[\"price\"].append(get_price(product_soup))\n",
    "    data[\"rating\"].append(get_rating(product_soup))"
   ]
  },
  {
   "cell_type": "markdown",
   "metadata": {},
   "source": [
    "**LOADING DATAS INTO A PANDAS DATAFRAME, REMOVING UNKNOWN PRODUCTS**"
   ]
  },
  {
   "cell_type": "code",
   "execution_count": 15,
   "metadata": {},
   "outputs": [
    {
     "data": {
      "text/html": [
       "<div>\n",
       "<style scoped>\n",
       "    .dataframe tbody tr th:only-of-type {\n",
       "        vertical-align: middle;\n",
       "    }\n",
       "\n",
       "    .dataframe tbody tr th {\n",
       "        vertical-align: top;\n",
       "    }\n",
       "\n",
       "    .dataframe thead th {\n",
       "        text-align: right;\n",
       "    }\n",
       "</style>\n",
       "<table border=\"1\" class=\"dataframe\">\n",
       "  <thead>\n",
       "    <tr style=\"text-align: right;\">\n",
       "      <th></th>\n",
       "      <th>title</th>\n",
       "      <th>price</th>\n",
       "      <th>rating</th>\n",
       "    </tr>\n",
       "  </thead>\n",
       "  <tbody>\n",
       "    <tr>\n",
       "      <th>0</th>\n",
       "      <td>INTO THE AM Mens T Shirt - Short Sleeve Crew N...</td>\n",
       "      <td>113.0</td>\n",
       "      <td>4.7</td>\n",
       "    </tr>\n",
       "    <tr>\n",
       "      <th>1</th>\n",
       "      <td>Gildan Men's Crew T-Shirts, Multipack, Style G...</td>\n",
       "      <td>119.0</td>\n",
       "      <td>4.6</td>\n",
       "    </tr>\n",
       "    <tr>\n",
       "      <th>2</th>\n",
       "      <td>Fruit of the Loom Men's Eversoft Cotton Stay T...</td>\n",
       "      <td>119.0</td>\n",
       "      <td>4.6</td>\n",
       "    </tr>\n",
       "    <tr>\n",
       "      <th>3</th>\n",
       "      <td>AG-GEAR Men’s Graphic Tee, Men’s Agricultural ...</td>\n",
       "      <td>30.0</td>\n",
       "      <td>4.6</td>\n",
       "    </tr>\n",
       "    <tr>\n",
       "      <th>4</th>\n",
       "      <td>Champion mens T-shirt, Classic Tee for Men, Me...</td>\n",
       "      <td>119.0</td>\n",
       "      <td>4.6</td>\n",
       "    </tr>\n",
       "    <tr>\n",
       "      <th>...</th>\n",
       "      <td>...</td>\n",
       "      <td>...</td>\n",
       "      <td>...</td>\n",
       "    </tr>\n",
       "    <tr>\n",
       "      <th>60</th>\n",
       "      <td>Hanes Women's Perfect-t V-neck T-shirt, Ring-s...</td>\n",
       "      <td>119.0</td>\n",
       "      <td>4.2</td>\n",
       "    </tr>\n",
       "    <tr>\n",
       "      <th>61</th>\n",
       "      <td>True Classic Tees | Premium Fitted Men's T-Shi...</td>\n",
       "      <td>123.0</td>\n",
       "      <td>4.1</td>\n",
       "    </tr>\n",
       "    <tr>\n",
       "      <th>62</th>\n",
       "      <td>Hanes Womens Originals V-Neck Long Sleeve T-Sh...</td>\n",
       "      <td>119.0</td>\n",
       "      <td>4.0</td>\n",
       "    </tr>\n",
       "    <tr>\n",
       "      <th>63</th>\n",
       "      <td>Gildan Women's Softstyle Cotton T-Shirt, Style...</td>\n",
       "      <td>119.0</td>\n",
       "      <td>3.9</td>\n",
       "    </tr>\n",
       "    <tr>\n",
       "      <th>64</th>\n",
       "      <td>Hanes Essentials, Cotton Crewneck Tee, Classic...</td>\n",
       "      <td>119.0</td>\n",
       "      <td>3.9</td>\n",
       "    </tr>\n",
       "  </tbody>\n",
       "</table>\n",
       "<p>65 rows × 3 columns</p>\n",
       "</div>"
      ],
      "text/plain": [
       "                                                title  price  rating\n",
       "0   INTO THE AM Mens T Shirt - Short Sleeve Crew N...  113.0     4.7\n",
       "1   Gildan Men's Crew T-Shirts, Multipack, Style G...  119.0     4.6\n",
       "2   Fruit of the Loom Men's Eversoft Cotton Stay T...  119.0     4.6\n",
       "3   AG-GEAR Men’s Graphic Tee, Men’s Agricultural ...   30.0     4.6\n",
       "4   Champion mens T-shirt, Classic Tee for Men, Me...  119.0     4.6\n",
       "..                                                ...    ...     ...\n",
       "60  Hanes Women's Perfect-t V-neck T-shirt, Ring-s...  119.0     4.2\n",
       "61  True Classic Tees | Premium Fitted Men's T-Shi...  123.0     4.1\n",
       "62  Hanes Womens Originals V-Neck Long Sleeve T-Sh...  119.0     4.0\n",
       "63  Gildan Women's Softstyle Cotton T-Shirt, Style...  119.0     3.9\n",
       "64  Hanes Essentials, Cotton Crewneck Tee, Classic...  119.0     3.9\n",
       "\n",
       "[65 rows x 3 columns]"
      ]
     },
     "execution_count": 15,
     "metadata": {},
     "output_type": "execute_result"
    }
   ],
   "source": [
    "df = pd.DataFrame.from_dict(data)\n",
    "df['rating'] = df['rating'].replace('Unknown Rating', np.nan)\n",
    "df['rating'] = df['rating'].astype(float)\n",
    "df['price'] = df['price'].replace('Unknown Price', np.nan)\n",
    "df['price'] = df['price'].astype(float)\n",
    "df = df.dropna()\n",
    "df = df.sort_values(by=['rating'], ascending=False)\n",
    "df = df.reset_index(drop=True)\n",
    "df"
   ]
  },
  {
   "cell_type": "markdown",
   "metadata": {},
   "source": [
    "**LOADING DATA INTO A LOCAL POSTGRESQL DATABASE**"
   ]
  },
  {
   "cell_type": "code",
   "execution_count": null,
   "metadata": {},
   "outputs": [],
   "source": [
    "#CREATING CONNECTTION AND CURSOR TO POSTGRESQL DATABASE\n",
    "def connect():\n",
    "    def create_connection():\n",
    "        conn = psycopg2.connect(\n",
    "            host=\"localhost\",\n",
    "            database=\"database\",\n",
    "            user=\"postgres\",\n",
    "            password=\"Quockhanh2004@\"\n",
    "        )\n",
    "        return conn\n",
    "    conn = create_connection()\n",
    "    cur = conn.cursor()\n",
    "    return cur, conn\n",
    "cur, conn = connect()"
   ]
  },
  {
   "cell_type": "code",
   "execution_count": 19,
   "metadata": {},
   "outputs": [],
   "source": [
    "#LOADING DATA TO POSTGRESQL DATABASE\n",
    "def load(data):\n",
    "    cur, conn = connect()\n",
    "    cur.execute(\"DROP TABLE IF EXISTS tshirts\")\n",
    "    cur.execute(\"CREATE TABLE tshirts (title TEXT, price FLOAT, rating FLOAT)\")\n",
    "    for item in data:\n",
    "        cur.execute(\"INSERT INTO tshirts (title, price, rating) VALUES (%s, %d, %d)\", (item[0], item[1], item[2]))\n",
    "    conn.commit()\n",
    "    print(\"Data loaded successfully\")\n",
    "    conn.close()\n",
    "\n",
    "database = load(data)"
   ]
  }
 ],
 "metadata": {
  "kernelspec": {
   "display_name": "Python 3",
   "language": "python",
   "name": "python3"
  },
  "language_info": {
   "codemirror_mode": {
    "name": "ipython",
    "version": 3
   },
   "file_extension": ".py",
   "mimetype": "text/x-python",
   "name": "python",
   "nbconvert_exporter": "python",
   "pygments_lexer": "ipython3",
   "version": "3.11.1"
  }
 },
 "nbformat": 4,
 "nbformat_minor": 2
}
